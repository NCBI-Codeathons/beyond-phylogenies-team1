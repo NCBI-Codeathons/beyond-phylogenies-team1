{
 "cells": [
  {
   "cell_type": "code",
   "execution_count": 140,
   "id": "2a78fec4",
   "metadata": {},
   "outputs": [
    {
     "name": "stderr",
     "output_type": "stream",
     "text": [
      "Loading required package: foreach\n",
      "\n",
      "\n",
      "Attaching package: ‘foreach’\n",
      "\n",
      "\n",
      "The following objects are masked from ‘package:purrr’:\n",
      "\n",
      "    accumulate, when\n",
      "\n",
      "\n"
     ]
    }
   ],
   "source": [
    "#library(future) install this if you need the parallalism\n",
    "#have 64 threads to work with via this setup here\n",
    "#library(svd) #try to do PCA initially princomp\n",
    "#library(pcaMethods)\n",
    "library(phangorn)\n",
    "library(RSpectra)\n",
    "library(tidyverse)\n",
    "library(future)\n",
    "library(doFuture)\n",
    "registerDoFuture()\n",
    "\n",
    "\n",
    "\n",
    "\n",
    "     \n",
    "     \n",
    "     \n",
    "     \n",
    "     \n",
    "     \n",
    "     \n",
    "\n",
    "\n"
   ]
  },
  {
   "cell_type": "code",
   "execution_count": 4,
   "id": "234cd914",
   "metadata": {},
   "outputs": [],
   "source": [
    "cmd_custom <-function(Dmat,k) {\n",
    "\n",
    "Dmat=Dmat^2\n",
    "n <- dim(Dmat)[1]\n",
    "    s <- sum(Dmat)/(n*n)\n",
    "    xr <- rowSums(Dmat)/n\n",
    "    xc <- colSums(Dmat)/n\n",
    "    Bmat=((Dmat-outer(xr,xc,\"+\"))+s)*-1/2\n",
    "\n",
    "  z=eigs_sym(Bmat,k+1,which=\"LM\")\n",
    "  #v <- pmax(as.double(z$values),0)\n",
    "  v <- pmax(z$values,0)[1:k]\n",
    "  normdiag <- diag(sqrt(v))\n",
    "  #conf <- matrix(as.double(z$vectors),nrow=n,ncol=k)%*%normdiag\n",
    "  if (k==1){\n",
    "\tconf <- matrix(-1*z$vectors[,1]*sqrt(v),nrow=n,ncol=1)\n",
    "\t} else {\n",
    "  conf <- matrix(-1*z$vectors[,1:k],nrow=n,ncol=k)%*%normdiag\n",
    "}\n",
    "\n",
    "return (list(conf,z$values[1:k]))\n",
    "}"
   ]
  },
  {
   "cell_type": "code",
   "execution_count": 113,
   "id": "a9846b88",
   "metadata": {},
   "outputs": [],
   "source": [
    "data_address<-\"/data/bp-codeathon-team-1/aa.uniq.1000.fasta\"\n",
    "spike_seq<-read.table(data_address,sep=\"\",fill=TRUE) #nrows=500\n",
    "#spike_seq<-spike_seq[seq(2,nrow(spike_seq),2),1]\n",
    "\n",
    "int<-strsplit(spike_seq[seq(2,nrow(spike_seq),2),1],\"\") #[-94] #hard coding remove element 94 for now due to it not having length\n",
    "#1274\n",
    "spike_seq<-t(as.data.frame(int[which(lengths(int)==1274)]))\n",
    "wind_size<-10\n",
    "#dim_red_comp<-data.table(nrow=nrow(spike_seq),ncol=length(spike_seq)-wind_size)"
   ]
  },
  {
   "cell_type": "code",
   "execution_count": 35,
   "id": "812e426c",
   "metadata": {},
   "outputs": [
    {
     "data": {
      "text/html": [
       "<style>\n",
       ".list-inline {list-style: none; margin:0; padding: 0}\n",
       ".list-inline>li {display: inline-block}\n",
       ".list-inline>li:not(:last-child)::after {content: \"\\00b7\"; padding: 0 .5ex}\n",
       "</style>\n",
       "<ol class=list-inline><li>250</li><li>1274</li></ol>\n"
      ],
      "text/latex": [
       "\\begin{enumerate*}\n",
       "\\item 250\n",
       "\\item 1274\n",
       "\\end{enumerate*}\n"
      ],
      "text/markdown": [
       "1. 250\n",
       "2. 1274\n",
       "\n",
       "\n"
      ],
      "text/plain": [
       "[1]  250 1274"
      ]
     },
     "metadata": {},
     "output_type": "display_data"
    },
    {
     "data": {
      "text/html": [
       "5"
      ],
      "text/latex": [
       "5"
      ],
      "text/markdown": [
       "5"
      ],
      "text/plain": [
       "[1] 5"
      ]
     },
     "metadata": {},
     "output_type": "display_data"
    },
    {
     "data": {
      "text/html": [
       "<style>\n",
       ".list-inline {list-style: none; margin:0; padding: 0}\n",
       ".list-inline>li {display: inline-block}\n",
       ".list-inline>li:not(:last-child)::after {content: \"\\00b7\"; padding: 0 .5ex}\n",
       "</style>\n",
       "<ol class=list-inline><li>'D'</li><li>'H'</li><li>'K'</li><li>'I'</li><li>'T'</li></ol>\n"
      ],
      "text/latex": [
       "\\begin{enumerate*}\n",
       "\\item 'D'\n",
       "\\item 'H'\n",
       "\\item 'K'\n",
       "\\item 'I'\n",
       "\\item 'T'\n",
       "\\end{enumerate*}\n"
      ],
      "text/markdown": [
       "1. 'D'\n",
       "2. 'H'\n",
       "3. 'K'\n",
       "4. 'I'\n",
       "5. 'T'\n",
       "\n",
       "\n"
      ],
      "text/plain": [
       "[1] \"D\" \"H\" \"K\" \"I\" \"T\""
      ]
     },
     "metadata": {},
     "output_type": "display_data"
    },
    {
     "data": {
      "text/html": [
       "<style>\n",
       ".list-inline {list-style: none; margin:0; padding: 0}\n",
       ".list-inline>li {display: inline-block}\n",
       ".list-inline>li:not(:last-child)::after {content: \"\\00b7\"; padding: 0 .5ex}\n",
       "</style>\n",
       "<ol class=list-inline><li>'G'</li><li>'R'</li><li>'N'</li><li>'T'</li><li>'S'</li></ol>\n"
      ],
      "text/latex": [
       "\\begin{enumerate*}\n",
       "\\item 'G'\n",
       "\\item 'R'\n",
       "\\item 'N'\n",
       "\\item 'T'\n",
       "\\item 'S'\n",
       "\\end{enumerate*}\n"
      ],
      "text/markdown": [
       "1. 'G'\n",
       "2. 'R'\n",
       "3. 'N'\n",
       "4. 'T'\n",
       "5. 'S'\n",
       "\n",
       "\n"
      ],
      "text/plain": [
       "[1] \"G\" \"R\" \"N\" \"T\" \"S\""
      ]
     },
     "metadata": {},
     "output_type": "display_data"
    },
    {
     "name": "stderr",
     "output_type": "stream",
     "text": [
      "Warning message in phyDat.AA(data, return.index = return.index, ...):\n",
      "“Found unknown characters (not supplied in levels). Deleted sites with unknown states.”\n"
     ]
    },
    {
     "data": {
      "text/html": [
       "5.00392772977219"
      ],
      "text/latex": [
       "5.00392772977219"
      ],
      "text/markdown": [
       "5.00392772977219"
      ],
      "text/plain": [
       "[1] 5.003928"
      ]
     },
     "metadata": {},
     "output_type": "display_data"
    }
   ],
   "source": [
    "dim(spike_seq) \n",
    "ind1<-164\n",
    "ind2<-235\n",
    "sum(spike_seq[ind1,]!=spike_seq[ind2,])\n",
    "spike_seq[ind1,which(spike_seq[ind1,]!=spike_seq[ind2,])]\n",
    "spike_seq[ind2,which(spike_seq[ind1,]!=spike_seq[ind2,])]\n",
    "dist_1<-as.matrix(dist.hamming(as.phyDat(spike_seq[c(ind1,ind2),],type=\"AA\")))\n",
    "dist_1[1,2]*1274"
   ]
  },
  {
   "cell_type": "code",
   "execution_count": 141,
   "id": "c603d2ef",
   "metadata": {},
   "outputs": [
    {
     "ename": "ERROR",
     "evalue": "Error in parse(text = x, srcfile = src): <text>:7:12: unexpected 'in'\n6: \n7: foreach (i in\n              ^\n",
     "output_type": "error",
     "traceback": [
      "Error in parse(text = x, srcfile = src): <text>:7:12: unexpected 'in'\n6: \n7: foreach (i in\n              ^\nTraceback:\n"
     ]
    }
   ],
   "source": [
    "dim_red_comp<-data.frame(nrow=nrow(spike_seq))#,ncol=(length(spike_seq)-wind_size))\n",
    "\n",
    "plan(\"multisession\") #implement parallaism via future package\n",
    "\n",
    "\n",
    "\n",
    "foreach (i in seq(1,ncol(spike_seq)-wind_size,:wind_size/2)) %dopar% {\n",
    "    \n",
    "    disth<-as.matrix(dist.hamming(as.phyDat(spike_seq[,i:(i+wind_size)],type=\"AA\")))\n",
    "    mdsd<-cmd_custom(disth,1)[[1]]\n",
    "    #mdsdn<-(mdsd-min(mdsd))/(max(mdsd)-min(mdsd)) #normalize\n",
    "\n",
    "#pcad<- pca(dist,method=nipals,nPcs=2) #only calculate the first n components \n",
    "#pcad<-svd(spike_seq[,i:(i+wind_size)],n=2)\n",
    "    \n",
    "    dim_red_comp<-cbind(dim_red_comp,mdsd)\n",
    "    \n",
    "}\n",
    "\n",
    "dim_red_comp<-dim_red_comp[,-1]"
   ]
  },
  {
   "cell_type": "code",
   "execution_count": 139,
   "id": "ea79d49a",
   "metadata": {},
   "outputs": [
    {
     "name": "stdout",
     "output_type": "stream",
     "text": [
      "[1] 1 3 5 7 9\n"
     ]
    }
   ],
   "source": [
    "print(seq(1,10,2))"
   ]
  },
  {
   "cell_type": "code",
   "execution_count": 133,
   "id": "2621c7ce",
   "metadata": {},
   "outputs": [
    {
     "data": {
      "image/png": "[encoded data removed]",
      "text/plain": [
       "plot without title"
      ]
     },
     "metadata": {
      "image/png": {
       "height": 420,
       "width": 420
      }
     },
     "output_type": "display_data"
    }
   ],
   "source": [
    "\n",
    "colnames(dim_red_comp)<-1:ncol(dim_red_comp)\n",
    "plot_dim_red_comp<-dim_red_comp %>%\n",
    "                pivot_longer(cols=everything(),names_to=\"site\")\n",
    "\n",
    "plot_dim_red_comp$site<-as.integer(plot_dim_red_comp$site)\n",
    "p <- ggplot(plot_dim_red_comp, aes(x = site, y = value,group=site))+\n",
    "geom_point()\n",
    "p"
   ]
  },
  {
   "cell_type": "code",
   "execution_count": 107,
   "id": "8c317947",
   "metadata": {},
   "outputs": [
    {
     "data": {
      "image/png": "[encoded data removed]",
      "text/plain": [
       "plot without title"
      ]
     },
     "metadata": {
      "image/png": {
       "height": 420,
       "width": 420
      }
     },
     "output_type": "display_data"
    }
   ],
   "source": [
    "boxplot(dim_red_comp[,1000])"
   ]
  },
  {
   "cell_type": "code",
   "execution_count": 129,
   "id": "f1bbe305",
   "metadata": {},
   "outputs": [
    {
     "data": {
      "text/html": [
       "250"
      ],
      "text/latex": [
       "250"
      ],
      "text/markdown": [
       "250"
      ],
      "text/plain": [
       "[1] 250"
      ]
     },
     "metadata": {},
     "output_type": "display_data"
    }
   ],
   "source": [
    "length(which(plot_dim_red_comp$site==2))"
   ]
  },
  {
   "cell_type": "code",
   "execution_count": null,
   "id": "b8712b8a",
   "metadata": {},
   "outputs": [],
   "source": []
  },
  {
   "cell_type": "code",
   "execution_count": null,
   "id": "be3d9293",
   "metadata": {},
   "outputs": [],
   "source": []
  },
  {
   "cell_type": "code",
   "execution_count": null,
   "id": "f67ab89d",
   "metadata": {},
   "outputs": [],
   "source": []
  },
  {
   "cell_type": "code",
   "execution_count": null,
   "id": "8a061318",
   "metadata": {},
   "outputs": [],
   "source": []
  },
  {
   "cell_type": "code",
   "execution_count": null,
   "id": "29d1aec9",
   "metadata": {},
   "outputs": [],
   "source": []
  },
  {
   "cell_type": "code",
   "execution_count": null,
   "id": "e4c06ee4",
   "metadata": {},
   "outputs": [],
   "source": []
  },
  {
   "cell_type": "code",
   "execution_count": null,
   "id": "e5346db6",
   "metadata": {},
   "outputs": [],
   "source": []
  },
  {
   "cell_type": "code",
   "execution_count": null,
   "id": "d91c4012",
   "metadata": {},
   "outputs": [],
   "source": []
  },
  {
   "cell_type": "code",
   "execution_count": null,
   "id": "dd8004ed",
   "metadata": {},
   "outputs": [],
   "source": []
  },
  {
   "cell_type": "code",
   "execution_count": null,
   "id": "ab5b710c",
   "metadata": {},
   "outputs": [],
   "source": []
  },
  {
   "cell_type": "code",
   "execution_count": null,
   "id": "fca9dd74",
   "metadata": {},
   "outputs": [],
   "source": []
  },
  {
   "cell_type": "code",
   "execution_count": null,
   "id": "533e7bd4",
   "metadata": {},
   "outputs": [],
   "source": []
  },
  {
   "cell_type": "code",
   "execution_count": null,
   "id": "633753c8",
   "metadata": {},
   "outputs": [],
   "source": []
  },
  {
   "cell_type": "code",
   "execution_count": null,
   "id": "c3987f85",
   "metadata": {},
   "outputs": [],
   "source": []
  },
  {
   "cell_type": "code",
   "execution_count": null,
   "id": "181c68b7",
   "metadata": {},
   "outputs": [],
   "source": []
  },
  {
   "cell_type": "code",
   "execution_count": null,
   "id": "24ba6ba8",
   "metadata": {},
   "outputs": [],
   "source": []
  },
  {
   "cell_type": "code",
   "execution_count": null,
   "id": "cd26a3fb",
   "metadata": {},
   "outputs": [],
   "source": []
  },
  {
   "cell_type": "code",
   "execution_count": null,
   "id": "a2420ea3",
   "metadata": {},
   "outputs": [],
   "source": []
  },
  {
   "cell_type": "code",
   "execution_count": null,
   "id": "a160bc1f",
   "metadata": {},
   "outputs": [],
   "source": []
  },
  {
   "cell_type": "code",
   "execution_count": null,
   "id": "b20a3ba1",
   "metadata": {},
   "outputs": [],
   "source": []
  },
  {
   "cell_type": "code",
   "execution_count": null,
   "id": "be7a69d9",
   "metadata": {},
   "outputs": [],
   "source": []
  }
 ],
 "metadata": {
  "kernelspec": {
   "display_name": "R (my-r-env)",
   "language": "R",
   "name": "my-r-env"
  },
  "language_info": {
   "codemirror_mode": "r",
   "file_extension": ".r",
   "mimetype": "text/x-r-source",
   "name": "R",
   "pygments_lexer": "r",
   "version": "4.1.3"
  }
 },
 "nbformat": 4,
 "nbformat_minor": 5
}
